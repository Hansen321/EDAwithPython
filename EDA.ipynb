{
  "nbformat": 4,
  "nbformat_minor": 0,
  "metadata": {
    "colab": {
      "name": "EDA.ipynb",
      "provenance": [],
      "authorship_tag": "ABX9TyN34+CplT4X00jVMIM4aGTH"
    },
    "kernelspec": {
      "name": "python3",
      "display_name": "Python 3"
    },
    "language_info": {
      "name": "python"
    }
  },
  "cells": [
    {
      "cell_type": "code",
      "metadata": {
        "colab": {
          "base_uri": "https://localhost:8080/"
        },
        "id": "M8dxgvuha5-C",
        "outputId": "3feab087-c601-4be4-c825-0d5bc113db2e"
      },
      "source": [
        "# Mount google drive\n",
        "from google.colab import drive\n",
        "drive.mount('/content/gdrive')"
      ],
      "execution_count": 1,
      "outputs": [
        {
          "output_type": "stream",
          "name": "stdout",
          "text": [
            "Mounted at /content/gdrive\n"
          ]
        }
      ]
    },
    {
      "cell_type": "code",
      "metadata": {
        "id": "uK6gIfnpbee7"
      },
      "source": [
        "# Import libraries\n",
        "import numpy as np\n",
        "import pandas as pd\n",
        "import seaborn as sns\n",
        "import matplotlib.pyplot as plt"
      ],
      "execution_count": 2,
      "outputs": []
    },
    {
      "cell_type": "code",
      "metadata": {
        "id": "AqjaEBAMbg_n"
      },
      "source": [
        "# Read data\n",
        "data = pd.read_csv('/content/gdrive/MyDrive/Classroom/Data Science Bootcamp Batch 6/DAY 17 EDA Python/admission_data.csv')"
      ],
      "execution_count": 4,
      "outputs": []
    },
    {
      "cell_type": "markdown",
      "metadata": {
        "id": "BGx38lAscfSf"
      },
      "source": [
        "## 1. Missing Value Check and Handling"
      ]
    },
    {
      "cell_type": "code",
      "metadata": {
        "colab": {
          "base_uri": "https://localhost:8080/",
          "height": 204
        },
        "id": "iPTARnQNdQo2",
        "outputId": "ca7049fc-ee5c-45b8-a5f2-220075d411cd"
      },
      "source": [
        "# Print 5 data samples\n",
        "data.sample(5)"
      ],
      "execution_count": 5,
      "outputs": [
        {
          "output_type": "execute_result",
          "data": {
            "text/html": [
              "<div>\n",
              "<style scoped>\n",
              "    .dataframe tbody tr th:only-of-type {\n",
              "        vertical-align: middle;\n",
              "    }\n",
              "\n",
              "    .dataframe tbody tr th {\n",
              "        vertical-align: top;\n",
              "    }\n",
              "\n",
              "    .dataframe thead th {\n",
              "        text-align: right;\n",
              "    }\n",
              "</style>\n",
              "<table border=\"1\" class=\"dataframe\">\n",
              "  <thead>\n",
              "    <tr style=\"text-align: right;\">\n",
              "      <th></th>\n",
              "      <th>gre_score</th>\n",
              "      <th>toefl_score</th>\n",
              "      <th>univ_ranking</th>\n",
              "      <th>motiv_letter_strength</th>\n",
              "      <th>recommendation_strength</th>\n",
              "      <th>gpa</th>\n",
              "      <th>research_exp</th>\n",
              "      <th>admit_status</th>\n",
              "    </tr>\n",
              "  </thead>\n",
              "  <tbody>\n",
              "    <tr>\n",
              "      <th>192</th>\n",
              "      <td>322.0</td>\n",
              "      <td>NaN</td>\n",
              "      <td>5.0</td>\n",
              "      <td>4.5</td>\n",
              "      <td>4.0</td>\n",
              "      <td>8.94</td>\n",
              "      <td>yes</td>\n",
              "      <td>1</td>\n",
              "    </tr>\n",
              "    <tr>\n",
              "      <th>237</th>\n",
              "      <td>329.0</td>\n",
              "      <td>114.0</td>\n",
              "      <td>5.0</td>\n",
              "      <td>4.5</td>\n",
              "      <td>5.0</td>\n",
              "      <td>9.19</td>\n",
              "      <td>yes</td>\n",
              "      <td>1</td>\n",
              "    </tr>\n",
              "    <tr>\n",
              "      <th>33</th>\n",
              "      <td>340.0</td>\n",
              "      <td>114.0</td>\n",
              "      <td>5.0</td>\n",
              "      <td>4.0</td>\n",
              "      <td>4.0</td>\n",
              "      <td>9.60</td>\n",
              "      <td>yes</td>\n",
              "      <td>1</td>\n",
              "    </tr>\n",
              "    <tr>\n",
              "      <th>480</th>\n",
              "      <td>321.0</td>\n",
              "      <td>102.0</td>\n",
              "      <td>3.0</td>\n",
              "      <td>3.5</td>\n",
              "      <td>4.0</td>\n",
              "      <td>9.01</td>\n",
              "      <td>yes</td>\n",
              "      <td>1</td>\n",
              "    </tr>\n",
              "    <tr>\n",
              "      <th>404</th>\n",
              "      <td>311.0</td>\n",
              "      <td>101.0</td>\n",
              "      <td>3.0</td>\n",
              "      <td>2.0</td>\n",
              "      <td>2.5</td>\n",
              "      <td>7.64</td>\n",
              "      <td>yes</td>\n",
              "      <td>0</td>\n",
              "    </tr>\n",
              "  </tbody>\n",
              "</table>\n",
              "</div>"
            ],
            "text/plain": [
              "     gre_score  toefl_score  univ_ranking  ...   gpa  research_exp  admit_status\n",
              "192      322.0          NaN           5.0  ...  8.94           yes             1\n",
              "237      329.0        114.0           5.0  ...  9.19           yes             1\n",
              "33       340.0        114.0           5.0  ...  9.60           yes             1\n",
              "480      321.0        102.0           3.0  ...  9.01           yes             1\n",
              "404      311.0        101.0           3.0  ...  7.64           yes             0\n",
              "\n",
              "[5 rows x 8 columns]"
            ]
          },
          "metadata": {},
          "execution_count": 5
        }
      ]
    },
    {
      "cell_type": "code",
      "metadata": {
        "colab": {
          "base_uri": "https://localhost:8080/"
        },
        "id": "bqqIb7qTclEb",
        "outputId": "1dd65608-0756-48fe-8264-6bc3d8043afd"
      },
      "source": [
        "# Simple data checking\n",
        "data.info()"
      ],
      "execution_count": 6,
      "outputs": [
        {
          "output_type": "stream",
          "name": "stdout",
          "text": [
            "<class 'pandas.core.frame.DataFrame'>\n",
            "RangeIndex: 505 entries, 0 to 504\n",
            "Data columns (total 8 columns):\n",
            " #   Column                   Non-Null Count  Dtype  \n",
            "---  ------                   --------------  -----  \n",
            " 0   gre_score                496 non-null    float64\n",
            " 1   toefl_score              497 non-null    float64\n",
            " 2   univ_ranking             498 non-null    float64\n",
            " 3   motiv_letter_strength    503 non-null    float64\n",
            " 4   recommendation_strength  499 non-null    float64\n",
            " 5   gpa                      501 non-null    float64\n",
            " 6   research_exp             505 non-null    object \n",
            " 7   admit_status             505 non-null    int64  \n",
            "dtypes: float64(6), int64(1), object(1)\n",
            "memory usage: 31.7+ KB\n"
          ]
        }
      ]
    },
    {
      "cell_type": "markdown",
      "metadata": {
        "id": "WfRTETKocwfi"
      },
      "source": [
        "In the data, there are 8 columns and 505 rows.\n",
        "\n",
        "All columns except 'research_exp' and 'admit_status' have missing values."
      ]
    },
    {
      "cell_type": "code",
      "metadata": {
        "colab": {
          "base_uri": "https://localhost:8080/"
        },
        "id": "Gh8ghxPqdg2c",
        "outputId": "8d858e7b-d254-4045-d93e-0ba2b57609c4"
      },
      "source": [
        "# number of missing values per column\n",
        "data.isna().sum()"
      ],
      "execution_count": 7,
      "outputs": [
        {
          "output_type": "execute_result",
          "data": {
            "text/plain": [
              "gre_score                  9\n",
              "toefl_score                8\n",
              "univ_ranking               7\n",
              "motiv_letter_strength      2\n",
              "recommendation_strength    6\n",
              "gpa                        4\n",
              "research_exp               0\n",
              "admit_status               0\n",
              "dtype: int64"
            ]
          },
          "metadata": {},
          "execution_count": 7
        }
      ]
    },
    {
      "cell_type": "code",
      "metadata": {
        "id": "KBO6CNh-dipM"
      },
      "source": [
        "# drop missing values\n",
        "data = data.dropna()"
      ],
      "execution_count": 8,
      "outputs": []
    },
    {
      "cell_type": "code",
      "metadata": {
        "colab": {
          "base_uri": "https://localhost:8080/"
        },
        "id": "cMGiGy0ZdpsX",
        "outputId": "a7a030ee-a74a-463f-8775-4b9505b34a8b"
      },
      "source": [
        "# check missing values\n",
        "data.isna().sum()"
      ],
      "execution_count": 9,
      "outputs": [
        {
          "output_type": "execute_result",
          "data": {
            "text/plain": [
              "gre_score                  0\n",
              "toefl_score                0\n",
              "univ_ranking               0\n",
              "motiv_letter_strength      0\n",
              "recommendation_strength    0\n",
              "gpa                        0\n",
              "research_exp               0\n",
              "admit_status               0\n",
              "dtype: int64"
            ]
          },
          "metadata": {},
          "execution_count": 9
        }
      ]
    },
    {
      "cell_type": "markdown",
      "metadata": {
        "id": "i644HRWQd5ex"
      },
      "source": [
        "Done! There's no more missing values :D"
      ]
    },
    {
      "cell_type": "markdown",
      "metadata": {
        "id": "RpSe_jTSdyYd"
      },
      "source": [
        "## 2. Duplicated Value Check and Handling"
      ]
    },
    {
      "cell_type": "code",
      "metadata": {
        "colab": {
          "base_uri": "https://localhost:8080/"
        },
        "id": "_pPJXdjsd2JP",
        "outputId": "b78bf538-1d8c-4a15-9fde-41039d05c369"
      },
      "source": [
        "# number of duplicated data\n",
        "data.duplicated().sum()"
      ],
      "execution_count": 10,
      "outputs": [
        {
          "output_type": "execute_result",
          "data": {
            "text/plain": [
              "5"
            ]
          },
          "metadata": {},
          "execution_count": 10
        }
      ]
    },
    {
      "cell_type": "markdown",
      "metadata": {
        "id": "mywaIFJ0er7P"
      },
      "source": [
        "There are 5 duplicated rows, will be dropped later."
      ]
    },
    {
      "cell_type": "code",
      "metadata": {
        "colab": {
          "base_uri": "https://localhost:8080/",
          "height": 204
        },
        "id": "RpCway6ceIX4",
        "outputId": "299788e2-31e9-4a31-f884-f723f17df9e5"
      },
      "source": [
        "# sample duplicated rows\n",
        "data[data.duplicated(keep=False)].sort_values('gre_score').head(5)"
      ],
      "execution_count": 11,
      "outputs": [
        {
          "output_type": "execute_result",
          "data": {
            "text/html": [
              "<div>\n",
              "<style scoped>\n",
              "    .dataframe tbody tr th:only-of-type {\n",
              "        vertical-align: middle;\n",
              "    }\n",
              "\n",
              "    .dataframe tbody tr th {\n",
              "        vertical-align: top;\n",
              "    }\n",
              "\n",
              "    .dataframe thead th {\n",
              "        text-align: right;\n",
              "    }\n",
              "</style>\n",
              "<table border=\"1\" class=\"dataframe\">\n",
              "  <thead>\n",
              "    <tr style=\"text-align: right;\">\n",
              "      <th></th>\n",
              "      <th>gre_score</th>\n",
              "      <th>toefl_score</th>\n",
              "      <th>univ_ranking</th>\n",
              "      <th>motiv_letter_strength</th>\n",
              "      <th>recommendation_strength</th>\n",
              "      <th>gpa</th>\n",
              "      <th>research_exp</th>\n",
              "      <th>admit_status</th>\n",
              "    </tr>\n",
              "  </thead>\n",
              "  <tbody>\n",
              "    <tr>\n",
              "      <th>364</th>\n",
              "      <td>313.0</td>\n",
              "      <td>102.0</td>\n",
              "      <td>3.0</td>\n",
              "      <td>3.5</td>\n",
              "      <td>4.0</td>\n",
              "      <td>8.90</td>\n",
              "      <td>yes</td>\n",
              "      <td>1</td>\n",
              "    </tr>\n",
              "    <tr>\n",
              "      <th>500</th>\n",
              "      <td>313.0</td>\n",
              "      <td>102.0</td>\n",
              "      <td>3.0</td>\n",
              "      <td>3.5</td>\n",
              "      <td>4.0</td>\n",
              "      <td>8.90</td>\n",
              "      <td>yes</td>\n",
              "      <td>1</td>\n",
              "    </tr>\n",
              "    <tr>\n",
              "      <th>74</th>\n",
              "      <td>314.0</td>\n",
              "      <td>106.0</td>\n",
              "      <td>3.0</td>\n",
              "      <td>3.0</td>\n",
              "      <td>5.0</td>\n",
              "      <td>8.90</td>\n",
              "      <td>no</td>\n",
              "      <td>1</td>\n",
              "    </tr>\n",
              "    <tr>\n",
              "      <th>504</th>\n",
              "      <td>314.0</td>\n",
              "      <td>106.0</td>\n",
              "      <td>3.0</td>\n",
              "      <td>3.0</td>\n",
              "      <td>5.0</td>\n",
              "      <td>8.90</td>\n",
              "      <td>no</td>\n",
              "      <td>1</td>\n",
              "    </tr>\n",
              "    <tr>\n",
              "      <th>111</th>\n",
              "      <td>321.0</td>\n",
              "      <td>109.0</td>\n",
              "      <td>4.0</td>\n",
              "      <td>4.0</td>\n",
              "      <td>4.0</td>\n",
              "      <td>8.68</td>\n",
              "      <td>yes</td>\n",
              "      <td>0</td>\n",
              "    </tr>\n",
              "  </tbody>\n",
              "</table>\n",
              "</div>"
            ],
            "text/plain": [
              "     gre_score  toefl_score  univ_ranking  ...   gpa  research_exp  admit_status\n",
              "364      313.0        102.0           3.0  ...  8.90           yes             1\n",
              "500      313.0        102.0           3.0  ...  8.90           yes             1\n",
              "74       314.0        106.0           3.0  ...  8.90            no             1\n",
              "504      314.0        106.0           3.0  ...  8.90            no             1\n",
              "111      321.0        109.0           4.0  ...  8.68           yes             0\n",
              "\n",
              "[5 rows x 8 columns]"
            ]
          },
          "metadata": {},
          "execution_count": 11
        }
      ]
    },
    {
      "cell_type": "markdown",
      "metadata": {
        "id": "sIo1WyhZe-H7"
      },
      "source": [
        "### Drop duplicated rows"
      ]
    },
    {
      "cell_type": "code",
      "metadata": {
        "id": "MUgobgdoemwx"
      },
      "source": [
        "# drop duplicated rows\n",
        "data = data.drop_duplicates()"
      ],
      "execution_count": 12,
      "outputs": []
    },
    {
      "cell_type": "code",
      "metadata": {
        "colab": {
          "base_uri": "https://localhost:8080/"
        },
        "id": "yvi6M_YgfCCd",
        "outputId": "b6a4b5c7-958e-4d1f-b73d-4194aa0d0f8a"
      },
      "source": [
        "# check\n",
        "data.duplicated().sum()"
      ],
      "execution_count": 13,
      "outputs": [
        {
          "output_type": "execute_result",
          "data": {
            "text/plain": [
              "0"
            ]
          },
          "metadata": {},
          "execution_count": 13
        }
      ]
    },
    {
      "cell_type": "markdown",
      "metadata": {
        "id": "M4egMHdFfMEM"
      },
      "source": [
        "Done!"
      ]
    },
    {
      "cell_type": "markdown",
      "metadata": {
        "id": "opBm23yRfFKg"
      },
      "source": [
        "## 3. Statistical Summaries of Columns"
      ]
    },
    {
      "cell_type": "code",
      "metadata": {
        "id": "t_w91V7QfLK2"
      },
      "source": [
        "# Grouping columns by data category\n",
        "categoricals = ['research_exp']\n",
        "numericals = ['gre_score', 'toefl_score', 'univ_ranking', 'motiv_letter_strength', 'recommendation_strength', 'admit_status']"
      ],
      "execution_count": 15,
      "outputs": []
    },
    {
      "cell_type": "code",
      "metadata": {
        "colab": {
          "base_uri": "https://localhost:8080/",
          "height": 297
        },
        "id": "RkpK1cFvCSym",
        "outputId": "73a6c8da-c0ad-4f61-8031-a2857400af29"
      },
      "source": [
        "# numerical statistical summary\n",
        "data[numericals].describe()"
      ],
      "execution_count": 16,
      "outputs": [
        {
          "output_type": "execute_result",
          "data": {
            "text/html": [
              "<div>\n",
              "<style scoped>\n",
              "    .dataframe tbody tr th:only-of-type {\n",
              "        vertical-align: middle;\n",
              "    }\n",
              "\n",
              "    .dataframe tbody tr th {\n",
              "        vertical-align: top;\n",
              "    }\n",
              "\n",
              "    .dataframe thead th {\n",
              "        text-align: right;\n",
              "    }\n",
              "</style>\n",
              "<table border=\"1\" class=\"dataframe\">\n",
              "  <thead>\n",
              "    <tr style=\"text-align: right;\">\n",
              "      <th></th>\n",
              "      <th>gre_score</th>\n",
              "      <th>toefl_score</th>\n",
              "      <th>univ_ranking</th>\n",
              "      <th>motiv_letter_strength</th>\n",
              "      <th>recommendation_strength</th>\n",
              "      <th>admit_status</th>\n",
              "    </tr>\n",
              "  </thead>\n",
              "  <tbody>\n",
              "    <tr>\n",
              "      <th>count</th>\n",
              "      <td>464.000000</td>\n",
              "      <td>464.000000</td>\n",
              "      <td>464.000000</td>\n",
              "      <td>464.000000</td>\n",
              "      <td>464.000000</td>\n",
              "      <td>464.000000</td>\n",
              "    </tr>\n",
              "    <tr>\n",
              "      <th>mean</th>\n",
              "      <td>316.327586</td>\n",
              "      <td>107.090517</td>\n",
              "      <td>3.118534</td>\n",
              "      <td>3.366379</td>\n",
              "      <td>3.476293</td>\n",
              "      <td>0.571121</td>\n",
              "    </tr>\n",
              "    <tr>\n",
              "      <th>std</th>\n",
              "      <td>11.242104</td>\n",
              "      <td>5.934888</td>\n",
              "      <td>1.119704</td>\n",
              "      <td>0.968974</td>\n",
              "      <td>0.919244</td>\n",
              "      <td>0.495450</td>\n",
              "    </tr>\n",
              "    <tr>\n",
              "      <th>min</th>\n",
              "      <td>290.000000</td>\n",
              "      <td>92.000000</td>\n",
              "      <td>1.000000</td>\n",
              "      <td>1.000000</td>\n",
              "      <td>1.000000</td>\n",
              "      <td>0.000000</td>\n",
              "    </tr>\n",
              "    <tr>\n",
              "      <th>25%</th>\n",
              "      <td>308.000000</td>\n",
              "      <td>103.000000</td>\n",
              "      <td>2.000000</td>\n",
              "      <td>2.500000</td>\n",
              "      <td>3.000000</td>\n",
              "      <td>0.000000</td>\n",
              "    </tr>\n",
              "    <tr>\n",
              "      <th>50%</th>\n",
              "      <td>316.000000</td>\n",
              "      <td>107.000000</td>\n",
              "      <td>3.000000</td>\n",
              "      <td>3.500000</td>\n",
              "      <td>3.500000</td>\n",
              "      <td>1.000000</td>\n",
              "    </tr>\n",
              "    <tr>\n",
              "      <th>75%</th>\n",
              "      <td>324.000000</td>\n",
              "      <td>111.250000</td>\n",
              "      <td>4.000000</td>\n",
              "      <td>4.000000</td>\n",
              "      <td>4.000000</td>\n",
              "      <td>1.000000</td>\n",
              "    </tr>\n",
              "    <tr>\n",
              "      <th>max</th>\n",
              "      <td>340.000000</td>\n",
              "      <td>120.000000</td>\n",
              "      <td>5.000000</td>\n",
              "      <td>5.000000</td>\n",
              "      <td>5.000000</td>\n",
              "      <td>1.000000</td>\n",
              "    </tr>\n",
              "  </tbody>\n",
              "</table>\n",
              "</div>"
            ],
            "text/plain": [
              "        gre_score  toefl_score  ...  recommendation_strength  admit_status\n",
              "count  464.000000   464.000000  ...               464.000000    464.000000\n",
              "mean   316.327586   107.090517  ...                 3.476293      0.571121\n",
              "std     11.242104     5.934888  ...                 0.919244      0.495450\n",
              "min    290.000000    92.000000  ...                 1.000000      0.000000\n",
              "25%    308.000000   103.000000  ...                 3.000000      0.000000\n",
              "50%    316.000000   107.000000  ...                 3.500000      1.000000\n",
              "75%    324.000000   111.250000  ...                 4.000000      1.000000\n",
              "max    340.000000   120.000000  ...                 5.000000      1.000000\n",
              "\n",
              "[8 rows x 6 columns]"
            ]
          },
          "metadata": {},
          "execution_count": 16
        }
      ]
    },
    {
      "cell_type": "markdown",
      "metadata": {
        "id": "CmuKiS4LCehL"
      },
      "source": [
        "Findings:\n",
        "\n",
        "1. 'admit_status' column is a boolean/binary column with values 0 and 1.\n",
        "\n",
        "2. Overall, there is nothing unusual about the minimum and maximum values for each column.\n",
        "\n",
        "3. Mean ~ 50% (Median) for all columns except 'admit_status', indicating a symmetrical distribution.\n",
        "\n",
        "4. Mean < 50% (Median) in column 'admit_status' indicates a negatively skewed distribution"
      ]
    },
    {
      "cell_type": "code",
      "metadata": {
        "colab": {
          "base_uri": "https://localhost:8080/",
          "height": 173
        },
        "id": "wNfcbK7hFL6o",
        "outputId": "1d374131-affd-4327-f8cc-34dc938b60e9"
      },
      "source": [
        "# describe method on categorical data\n",
        "data[categoricals].describe()"
      ],
      "execution_count": 17,
      "outputs": [
        {
          "output_type": "execute_result",
          "data": {
            "text/html": [
              "<div>\n",
              "<style scoped>\n",
              "    .dataframe tbody tr th:only-of-type {\n",
              "        vertical-align: middle;\n",
              "    }\n",
              "\n",
              "    .dataframe tbody tr th {\n",
              "        vertical-align: top;\n",
              "    }\n",
              "\n",
              "    .dataframe thead th {\n",
              "        text-align: right;\n",
              "    }\n",
              "</style>\n",
              "<table border=\"1\" class=\"dataframe\">\n",
              "  <thead>\n",
              "    <tr style=\"text-align: right;\">\n",
              "      <th></th>\n",
              "      <th>research_exp</th>\n",
              "    </tr>\n",
              "  </thead>\n",
              "  <tbody>\n",
              "    <tr>\n",
              "      <th>count</th>\n",
              "      <td>464</td>\n",
              "    </tr>\n",
              "    <tr>\n",
              "      <th>unique</th>\n",
              "      <td>2</td>\n",
              "    </tr>\n",
              "    <tr>\n",
              "      <th>top</th>\n",
              "      <td>yes</td>\n",
              "    </tr>\n",
              "    <tr>\n",
              "      <th>freq</th>\n",
              "      <td>252</td>\n",
              "    </tr>\n",
              "  </tbody>\n",
              "</table>\n",
              "</div>"
            ],
            "text/plain": [
              "       research_exp\n",
              "count           464\n",
              "unique            2\n",
              "top             yes\n",
              "freq            252"
            ]
          },
          "metadata": {},
          "execution_count": 17
        }
      ]
    },
    {
      "cell_type": "markdown",
      "metadata": {
        "id": "UpejlGm1F6Q7"
      },
      "source": [
        "Findings:\n",
        "\n",
        "Most of them have research experience."
      ]
    },
    {
      "cell_type": "markdown",
      "metadata": {
        "id": "Z4sbbW9pGm4o"
      },
      "source": [
        "## 4. Univariate Analysis"
      ]
    },
    {
      "cell_type": "code",
      "metadata": {
        "colab": {
          "base_uri": "https://localhost:8080/",
          "height": 297
        },
        "id": "DNoDAu8-Gsdf",
        "outputId": "b55053f6-f045-431e-aa6c-a6971f49431c"
      },
      "source": [
        "# Boxplot to detect outliers\n",
        "features = numericals\n",
        "for i in range(0, len(features)):\n",
        "    plt.subplot(1, len(features), i+1)\n",
        "    sns.boxplot(y=data[features[i]], color='skyblue')\n",
        "    plt.tight_layout()"
      ],
      "execution_count": 18,
      "outputs": [
        {
          "output_type": "display_data",
          "data": {
            "image/png": "[encoded data removed]",
            "text/plain": [
              "<Figure size 432x288 with 6 Axes>"
            ]
          },
          "metadata": {
            "needs_background": "light"
          }
        }
      ]
    },
    {
      "cell_type": "markdown",
      "metadata": {
        "id": "yC0QnA-pInAI"
      },
      "source": [
        "Findings:\n",
        "\n",
        "There is an outlier in the 'recommendation_strength' column."
      ]
    },
    {
      "cell_type": "code",
      "metadata": {
        "colab": {
          "base_uri": "https://localhost:8080/",
          "height": 546
        },
        "id": "CfaNCKG5JLCP",
        "outputId": "5b116b4f-7bfe-4223-9390-14d651ddff46"
      },
      "source": [
        "features = numericals\n",
        "plt.figure(figsize=(20,5))\n",
        "for i in range(0, len(features)):\n",
        "    #plt.subplot(2, len(features)//2, i+1)\n",
        "    plt.subplot(1, len(features), i+1)\n",
        "    sns.distplot(x=data[features[i]], color='skyblue')\n",
        "    plt.xlabel(features[i])\n",
        "    plt.tight_layout()"
      ],
      "execution_count": 19,
      "outputs": [
        {
          "output_type": "stream",
          "name": "stderr",
          "text": [
            "/usr/local/lib/python3.7/dist-packages/seaborn/distributions.py:2619: FutureWarning: `distplot` is a deprecated function and will be removed in a future version. Please adapt your code to use either `displot` (a figure-level function with similar flexibility) or `histplot` (an axes-level function for histograms).\n",
            "  warnings.warn(msg, FutureWarning)\n",
            "/usr/local/lib/python3.7/dist-packages/seaborn/distributions.py:2619: FutureWarning: `distplot` is a deprecated function and will be removed in a future version. Please adapt your code to use either `displot` (a figure-level function with similar flexibility) or `histplot` (an axes-level function for histograms).\n",
            "  warnings.warn(msg, FutureWarning)\n",
            "/usr/local/lib/python3.7/dist-packages/seaborn/distributions.py:2619: FutureWarning: `distplot` is a deprecated function and will be removed in a future version. Please adapt your code to use either `displot` (a figure-level function with similar flexibility) or `histplot` (an axes-level function for histograms).\n",
            "  warnings.warn(msg, FutureWarning)\n",
            "/usr/local/lib/python3.7/dist-packages/seaborn/distributions.py:2619: FutureWarning: `distplot` is a deprecated function and will be removed in a future version. Please adapt your code to use either `displot` (a figure-level function with similar flexibility) or `histplot` (an axes-level function for histograms).\n",
            "  warnings.warn(msg, FutureWarning)\n",
            "/usr/local/lib/python3.7/dist-packages/seaborn/distributions.py:2619: FutureWarning: `distplot` is a deprecated function and will be removed in a future version. Please adapt your code to use either `displot` (a figure-level function with similar flexibility) or `histplot` (an axes-level function for histograms).\n",
            "  warnings.warn(msg, FutureWarning)\n",
            "/usr/local/lib/python3.7/dist-packages/seaborn/distributions.py:2619: FutureWarning: `distplot` is a deprecated function and will be removed in a future version. Please adapt your code to use either `displot` (a figure-level function with similar flexibility) or `histplot` (an axes-level function for histograms).\n",
            "  warnings.warn(msg, FutureWarning)\n"
          ]
        },
        {
          "output_type": "display_data",
          "data": {
            "image/png": "[encoded data removed]",
            "text/plain": [
              "<Figure size 1440x360 with 6 Axes>"
            ]
          },
          "metadata": {
            "needs_background": "light"
          }
        }
      ]
    },
    {
      "cell_type": "markdown",
      "metadata": {
        "id": "UWYnZAsQJf1r"
      },
      "source": [
        "Findings:\n",
        "\n",
        "1. The 'admit_status' column is a binary column.\n",
        "\n",
        "2. 'gre_score','toefl_score','univ_ranking','motiv_letter_strength','recommendation_strength' column has symmetrical distribution."
      ]
    },
    {
      "cell_type": "markdown",
      "metadata": {
        "id": "4qzYVnRBKMaz"
      },
      "source": [
        "## 5. Bivariate Analysis"
      ]
    },
    {
      "cell_type": "code",
      "metadata": {
        "colab": {
          "base_uri": "https://localhost:8080/",
          "height": 297
        },
        "id": "raCybnA5KRt7",
        "outputId": "c2c8c230-2938-44ce-ab2c-04e70787d1ef"
      },
      "source": [
        "# research_exp vs admit_status \n",
        "sns.countplot(data=data,\n",
        "            x='research_exp',\n",
        "            hue='admit_status')"
      ],
      "execution_count": 20,
      "outputs": [
        {
          "output_type": "execute_result",
          "data": {
            "text/plain": [
              "<matplotlib.axes._subplots.AxesSubplot at 0x7f97a51266d0>"
            ]
          },
          "metadata": {},
          "execution_count": 20
        },
        {
          "output_type": "display_data",
          "data": {
            "image/png": "[encoded data removed]",
            "text/plain": [
              "<Figure size 432x288 with 1 Axes>"
            ]
          },
          "metadata": {
            "needs_background": "light"
          }
        }
      ]
    },
    {
      "cell_type": "markdown",
      "metadata": {
        "id": "dOFj-4jcLrBl"
      },
      "source": [
        "Findings:\n",
        "\n",
        "Between people who have and do not have research experience, there is a difference in the probability of being accepted. The chance of someone who has research exp is greater to be accepted compared to one who does not have research experience."
      ]
    },
    {
      "cell_type": "code",
      "metadata": {
        "colab": {
          "base_uri": "https://localhost:8080/",
          "height": 408
        },
        "id": "qowVn3Q9NCAs",
        "outputId": "d3be7f5e-7db6-4aeb-c3ab-94c1d8a8c013"
      },
      "source": [
        "# Correlation using heatmap\n",
        "correlation = data.corr()\n",
        "sns.heatmap(correlation, annot=True, fmt='.2f')"
      ],
      "execution_count": 22,
      "outputs": [
        {
          "output_type": "execute_result",
          "data": {
            "text/plain": [
              "<matplotlib.axes._subplots.AxesSubplot at 0x7f97a115bed0>"
            ]
          },
          "metadata": {},
          "execution_count": 22
        },
        {
          "output_type": "display_data",
          "data": {
            "image/png": "[encoded data removed]",
            "text/plain": [
              "<Figure size 432x288 with 2 Axes>"
            ]
          },
          "metadata": {
            "needs_background": "light"
          }
        }
      ]
    },
    {
      "cell_type": "markdown",
      "metadata": {
        "id": "AZswP0OqNnN1"
      },
      "source": [
        "Findings:\n",
        "\n",
        "There is highly correlated between:\n",
        "\n",
        "gre_score & toefl_score, toefl_score & gpa, gre_score & gpa"
      ]
    },
    {
      "cell_type": "markdown",
      "metadata": {
        "id": "VwptofBaOO3i"
      },
      "source": [
        "## 6. Overall Summary"
      ]
    },
    {
      "cell_type": "markdown",
      "metadata": {
        "id": "8KBAPSOUw456"
      },
      "source": [
        "1. The data does not contain major issues. There are only some NULL values and duplicated rows. I've handled them accordingly.\n",
        "\n",
        "2. Overall, the minimum and maximum values make sense for each column.\n",
        "\n",
        "3. Most of the columns have symmetrical distribution, except for 'admit_status'. \n",
        "\n",
        "4. There is an outlier in 'recommendation_strength' column.\n",
        "\n",
        "5. From barcharts of categorical column vs admit_status, I found that the chance of someone who has research exp is greater to be accepted compared to one who does not have research experience.\n",
        "\n",
        "6. From correlation heatmap, there is highly correlated between gre_score & toefl_score, toefl_score & gpa, gre_score & gpa."
      ]
    }
  ]
}